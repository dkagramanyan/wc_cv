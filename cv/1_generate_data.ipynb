{
 "cells": [
  {
   "cell_type": "code",
   "execution_count": null,
   "metadata": {
    "tags": []
   },
   "outputs": [],
   "source": [
    "import numpy as np\n",
    "import glob\n",
    "import json\n",
    "from tqdm.notebook import tqdm\n",
    "\n",
    "from skimage import color\n",
    "\n",
    "from wc_cv.src.utils import grainPreprocess, grainShow, grainMark, grainDraw, grainApprox, grainStats, grainMorphology,grainGenerate\n",
    "from wc_cv.src.utils import SEMDataset\n",
    "\n",
    "from crdp import rdp\n",
    "from skimage import io, filters, morphology, util\n",
    "from torch.utils.data import Dataset\n",
    "\n",
    "from matplotlib import pyplot as plt\n",
    "import os\n",
    "from pathlib import Path\n",
    "import json\n",
    "import torch\n",
    "\n",
    "from multiprocessing import Lock, Process, Queue, current_process\n",
    "import multiprocessing\n",
    "from mpire import WorkerPool\n",
    "import time\n"
   ]
  },
  {
   "cell_type": "markdown",
   "metadata": {},
   "source": [
    "## Углы"
   ]
  },
  {
   "cell_type": "code",
   "execution_count": null,
   "metadata": {
    "tags": []
   },
   "outputs": [],
   "source": [
    "def angles_approx_save(images_path, cached_base_dir,  save_path, types_dict, step, max_images_num_per_class=None, no_cache=False, workers=None):\n",
    "\n",
    "    #\n",
    "    # вычисление и сохранение распределения углов для всех фотографий одного образца\n",
    "    #\n",
    "\n",
    "    json_data = []\n",
    "    \n",
    "    dataset = SEMDataset(images_path, cached_base_dir, no_cache=no_cache, max_images_num_per_class=max_images_num_per_class, workers=workers)\n",
    "    shape=dataset.images_paths.shape\n",
    "    \n",
    "    pbar = tqdm(total=shape[0]*shape[1])\n",
    "\n",
    "    for i in range(dataset.images_paths.shape[0]):\n",
    "        all_angles = []\n",
    "        \n",
    "        for j in range(dataset.images_paths.shape[1]):\n",
    "            image, path = dataset.__getitem__(i,j)\n",
    "            ang=grainMark.get_angles(image, tol=3)\n",
    "            all_angles.extend(ang)\n",
    "            pbar.update(1)\n",
    "\n",
    "        x, y = grainStats.stats_preprocess(all_angles, step)\n",
    "\n",
    "        (x_gauss, y_gauss), mus, sigmas, amps = grainApprox.bimodal_gauss_approx(x, y)\n",
    "        name = path.split('/')[-2]\n",
    "\n",
    "        text = grainGenerate.angles_legend(dataset.images_paths.shape[1], types_dict[name], types_dict[name], step, mus, sigmas,amps, len(all_angles) )\n",
    "        \n",
    "        path='/'.join(path.split('/')[:-1])\n",
    "\n",
    "        json_data.append({'path': path,\n",
    "                          'name': name,\n",
    "                          'type': types_dict[name],\n",
    "                          'legend': text,\n",
    "                          'density_curve_scatter': [x,y],\n",
    "                          'gauss_approx_plot': [x_gauss, y_gauss],\n",
    "                          'gauss_approx_data': {'mus': mus, 'sigmas':sigmas, 'amps':amps},\n",
    "                          })\n",
    "\n",
    "    with open(f'{save_path}_step_{step}_degrees.json', 'w', encoding='utf-8') as outfile:\n",
    "        json.dump(json_data, outfile, cls=grainGenerate.NumpyEncoder, ensure_ascii=False)"
   ]
  },
  {
   "cell_type": "code",
   "execution_count": null,
   "metadata": {},
   "outputs": [],
   "source": [
    "images_path = 'wc_cv/datasets/diffusion/o_bc_left_4x_768_360_768_median'\n",
    "cached_base_dir = 'wc_cv/cv'\n",
    "\n",
    "dataset = SEMDataset(images_path, cached_base_dir, no_cache=False, max_images_num_per_class=None)"
   ]
  },
  {
   "cell_type": "code",
   "execution_count": null,
   "metadata": {
    "collapsed": false,
    "jupyter": {
     "outputs_hidden": false
    },
    "tags": []
   },
   "outputs": [],
   "source": [
    "%%time\n",
    "\n",
    "step = 5\n",
    "\n",
    "# images_path = '../ml/diffusion/data/o_bc_left_4x_768_360_768_median_generated'\n",
    "# images_path = '../ml/diffusion/data/o_bc_left_4x_768_360_512_median_generated'\n",
    "# images_path = '../ml/diffusion/data/o_bc_left_4x_768_360_256_median_generated'\n",
    "# images_path = '../datasets/original/o_bc_left'\n",
    "\n",
    "images_path = 'wc_cv/datasets/diffusion/o_bc_left_4x_768_360_768_median_generated_5000'\n",
    "cached_base_dir = 'wc_cv/cv'\n",
    "\n",
    "# json_save_path = 'o_bc_left_4x_768_360_median_generated_preprocess'\n",
    "# json_save_path = 'o_bc_left_4x_768_360_256_median_generated_preprocess'\n",
    "# json_save_path = 'o_bc_left_4x_768_360_768_median_generated'\n",
    "# json_save_path = 'o_bc_left_4x_768'\n",
    "\n",
    "json_save_path = 'wc_cv/cv/o_bc_left_4x_768_360_768_median_generated_5000'\n",
    "\n",
    "types_dict = {'Ultra_Co11': 'средние зерна',\n",
    "              'Ultra_Co25': 'мелкие зерна',\n",
    "              'Ultra_Co8': 'средне-мелкие зерна',\n",
    "              'Ultra_Co6_2': 'крупные зерна',\n",
    "              'Ultra_Co15': 'средне-мелкие зерна'}\n",
    "\n",
    "angles_approx_save(\n",
    "                    images_path=images_path,\n",
    "                    cached_base_dir = cached_base_dir,\n",
    "                    save_path=json_save_path,\n",
    "                    types_dict=types_dict,\n",
    "                    step=step,\n",
    "                    max_images_num_per_class=5000, \n",
    "                    # need to be refactored in future\n",
    "                    no_cache = None,\n",
    "                    workers = 20\n",
    "                )\n",
    "\n",
    "data = open(json_save_path+f'_step_{step}_degrees.json', encoding='utf-8')\n",
    "data = json.load(data)"
   ]
  },
  {
   "cell_type": "code",
   "execution_count": null,
   "metadata": {},
   "outputs": [],
   "source": [
    "\n",
    "grainShow.angles_plot_base(data, plot_file_name=json_save_path, step=step, N=20, M=7, indices=[2,0,1], save=False)"
   ]
  },
  {
   "cell_type": "code",
   "execution_count": null,
   "metadata": {},
   "outputs": [],
   "source": [
    "!pwd"
   ]
  },
  {
   "cell_type": "markdown",
   "metadata": {},
   "source": [
    "## Полуоси"
   ]
  },
  {
   "cell_type": "code",
   "execution_count": null,
   "metadata": {
    "tags": []
   },
   "outputs": [],
   "source": [
    "pixel = 50 / 1000\n",
    "\n",
    "# images_path = '../ml/diffusion/data/o_bc_left_4x_768_360_768_median_generated'\n",
    "# images_path = '../ml/diffusion/data/o_bc_left_4x_768_360_512_median_generated'\n",
    "images_path = '../ml/diffusion/data/o_bc_left_4x_768_360_256_median_generated'\n",
    "\n",
    "save_path = 'o_bc_left_4x_768_360_256_median_generated'\n",
    "\n",
    "\n",
    "types_dict = {'Ultra_Co11': 'средние зерна',\n",
    "              'Ultra_Co25': 'мелкие зерна',\n",
    "              'Ultra_Co8': 'средне-мелкие зерна',\n",
    "              'Ultra_Co6_2': 'крупные зерна',\n",
    "              'Ultra_Co15': 'средне-мелкие зерна'}\n",
    "\n",
    "\n",
    "for step in range(5, 6):\n",
    "    grainGenerate.diametr_approx_save(\n",
    "    # diametr_approx_save(\n",
    "                        images_path=images_path,\n",
    "                        save_path=save_path,\n",
    "                        types_dict=types_dict,\n",
    "                        step=step,\n",
    "                        max_images_num_per_class=None, \n",
    "                        no_cache=False,\n",
    "                        pixel = pixel\n",
    "    )"
   ]
  },
  {
   "cell_type": "markdown",
   "metadata": {},
   "source": [
    "# Прочее"
   ]
  },
  {
   "cell_type": "code",
   "execution_count": null,
   "metadata": {},
   "outputs": [],
   "source": [
    "images = np.load('images_7_classes_mixer_preprocess.npy')\n",
    "names = np.load('metadata_7_classes_mixer_preprocess.npy')\n",
    "names = [name.split('\\\\')[-1] for name in names]\n",
    "\n",
    "folder = 'data/'\n",
    "\n",
    "types_dict = {'2550-51': '2550 призм, кадр 51\\n доля карбина 54.51%',\n",
    "              '2550-52': '2550 призм, кадр 52\\n доля карбина 50.75%',\n",
    "              '2550-53': '2550 призм, кадр 53\\n доля карбина 45.81%',\n",
    "              '3400-51': '3400 призм, кадр 51\\n доля карбина 53.53%',\n",
    "              '3400-52': '3400 призм, кадр 52\\n доля карбина 50.47%',\n",
    "              '3400-53': '3400 призм, кадр 53\\n доля карбина 45.88%',\n",
    "              '3400-54': '3400 призм, кадр 54\\n доля карбина 40.88%'}\n",
    "\n",
    "dens_dict={'2550-51': 0.5451066158234127,\n",
    "           '2550-52': 0.5075556821469908,\n",
    "           '2550-53': 0.4580166661499669,\n",
    "           '3400-51': 0.535331783234127,\n",
    "           '3400-52': 0.504782962859623,\n",
    "           '3400-53': 0.45885131190062833,\n",
    "           '3400-54': 0.40882115988756607}\n",
    "\n"
   ]
  }
 ],
 "metadata": {
  "kernelspec": {
   "display_name": "torch",
   "language": "python",
   "name": "torch"
  },
  "language_info": {
   "codemirror_mode": {
    "name": "ipython",
    "version": 3
   },
   "file_extension": ".py",
   "mimetype": "text/x-python",
   "name": "python",
   "nbconvert_exporter": "python",
   "pygments_lexer": "ipython3",
   "version": "3.12.9"
  }
 },
 "nbformat": 4,
 "nbformat_minor": 4
}
