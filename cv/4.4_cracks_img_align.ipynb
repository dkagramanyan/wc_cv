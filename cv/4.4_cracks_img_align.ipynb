{
 "cells": [
  {
   "cell_type": "code",
   "execution_count": null,
   "id": "e18c6707",
   "metadata": {},
   "outputs": [],
   "source": [
    "from skimage import data\n",
    "from skimage.transform import rotate\n",
    "from skimage.color import rgb2gray"
   ]
  },
  {
   "cell_type": "code",
   "execution_count": null,
   "id": "920bf0a5",
   "metadata": {},
   "outputs": [],
   "source": [
    "io.imsave('wc_cv/cv/WC+8Co_5_cropped.jpg',crack.astype(np.uint8))\n",
    "io.imsave('wc_cv/cv/WC+8Co_5_fixed_cropped.jpg',fixed.astype(np.uint8))"
   ]
  },
  {
   "cell_type": "code",
   "execution_count": null,
   "id": "a9aaf976",
   "metadata": {},
   "outputs": [],
   "source": [
    "def pad_with( vector, pad_width, iaxis, kwargs):\n",
    "    pad_value = kwargs.get('padder', 255)\n",
    "    vector[:pad_width[0]] = pad_value\n",
    "    vector[-pad_width[1]:] = pad_value\n",
    "\n",
    "crack=rgb2gray(io.imread('wc_cv/cv/plots/WC+8Co_5.jpg')[:-165])*255\n",
    "fixed=rgb2gray(io.imread('wc_cv/cv/plots/WC+8Co_5_fixed_001.jpg'))*255\n",
    "\n",
    "border=200\n",
    "crack = np.pad(crack, border, pad_with)\n",
    "fixed = np.pad(fixed, border, pad_with)\n",
    "\n",
    "crack=rotate(crack, -30,cval=255)\n",
    "fixed=rotate(fixed, -30,cval=255)\n",
    "\n",
    "crack=crack[:,1100:2100]\n",
    "fixed=fixed[:,1100:2100]\n",
    "\n",
    "fontsize=15\n",
    "\n",
    "plt.imshow(crack,cmap='gray')\n",
    "plt.xlabel('width, pixels',fontsize=fontsize)\n",
    "plt.ylabel('height, pixels',fontsize=fontsize)\n",
    "# plt.savefig('wc_cv/cv/Ultra_Co6_2-001_cut_step_1.jpeg',bbox_inches='tight')\n",
    "plt.show()\n",
    "\n",
    "plt.imshow(fixed,cmap='gray')\n",
    "plt.xlabel('width, pixels',fontsize=fontsize)\n",
    "plt.ylabel('height, pixels',fontsize=fontsize)\n",
    "# plt.savefig('wc_cv/cv/Ultra_Co6_2-001_cut_step_2.jpeg',bbox_inches='tight')\n",
    "plt.show()"
   ]
  },
  {
   "cell_type": "code",
   "execution_count": null,
   "id": "79f4e461",
   "metadata": {},
   "outputs": [],
   "source": [
    "crack = io.imread('wc_cv/cv/WC+8Co_5_cropped.jpg')[:1000]\n",
    "fixed = io.imread('wc_cv/cv/WC+8Co_5_fixed_cropped.jpg')[:1000]\n",
    "\n",
    "plt.imshow(crack,cmap='gray')\n",
    "plt.xlabel('width, pixels',fontsize=fontsize)\n",
    "plt.ylabel('height, pixels',fontsize=fontsize)\n",
    "# plt.savefig('wc_cv/cv/Ultra_Co6_2-001_cut_step_1.jpeg',bbox_inches='tight')\n",
    "plt.show()\n",
    "\n",
    "plt.imshow(fixed,cmap='gray')\n",
    "plt.xlabel('width, pixels',fontsize=fontsize)\n",
    "plt.ylabel('height, pixels',fontsize=fontsize)\n",
    "# plt.savefig('wc_cv/cv/Ultra_Co6_2-001_cut_step_2.jpeg',bbox_inches='tight')\n",
    "plt.show()"
   ]
  },
  {
   "cell_type": "code",
   "execution_count": null,
   "id": "1b39ff2e",
   "metadata": {},
   "outputs": [],
   "source": [
    "io.imsave('wc_cv/cv/WC+8Co_5_cropped_small.jpg',crack.astype(np.uint8))\n",
    "io.imsave('wc_cv/cv/WC+8Co_5_fixed_cropped_small.jpg',fixed.astype(np.uint8))"
   ]
  }
 ],
 "metadata": {
  "kernelspec": {
   "display_name": "torch",
   "language": "python",
   "name": "torch"
  },
  "language_info": {
   "codemirror_mode": {
    "name": "ipython",
    "version": 3
   },
   "file_extension": ".py",
   "mimetype": "text/x-python",
   "name": "python",
   "nbconvert_exporter": "python",
   "pygments_lexer": "ipython3",
   "version": "3.11.8"
  }
 },
 "nbformat": 4,
 "nbformat_minor": 5
}
